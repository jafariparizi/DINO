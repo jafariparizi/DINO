{
  "nbformat": 4,
  "nbformat_minor": 0,
  "metadata": {
    "colab": {
      "provenance": [],
      "gpuType": "T4",
      "authorship_tag": "ABX9TyPLhYIjSxuXj3S3GOda2cEu",
      "include_colab_link": true
    },
    "kernelspec": {
      "name": "python3",
      "display_name": "Python 3"
    },
    "language_info": {
      "name": "python"
    },
    "accelerator": "GPU"
  },
  "cells": [
    {
      "cell_type": "markdown",
      "metadata": {
        "id": "view-in-github",
        "colab_type": "text"
      },
      "source": [
        "<a href=\"https://colab.research.google.com/github/jafariparizi/DINO/blob/main/Train_DINO_on_Custom_Dataset.ipynb\" target=\"_parent\"><img src=\"https://colab.research.google.com/assets/colab-badge.svg\" alt=\"Open In Colab\"/></a>"
      ]
    },
    {
      "cell_type": "code",
      "execution_count": null,
      "metadata": {
        "id": "lD1tFt1YZ3MF"
      },
      "outputs": [],
      "source": [
        "!git clone https://github.com/IDEA-Research/DINO.git"
      ]
    },
    {
      "cell_type": "code",
      "source": [
        "!python3 /content/DINO/models/dino/ops/setup.py build install"
      ],
      "metadata": {
        "id": "Omk2OdRRnqnY"
      },
      "execution_count": null,
      "outputs": []
    },
    {
      "cell_type": "code",
      "source": [
        "!sudo pip3 install -r /content/DINO/requirements.txt"
      ],
      "metadata": {
        "id": "ZvLy6pHDmxYc"
      },
      "execution_count": null,
      "outputs": []
    },
    {
      "cell_type": "code",
      "source": [
        "!pip install roboflow\n",
        "\n",
        "from roboflow import Roboflow\n",
        "rf = Roboflow(api_key=\"1JykZ5yDZX4xKCBzQXqR\")\n",
        "project = rf.workspace(\"brad-dwyer\").project(\"aerial-solar-panels\")\n",
        "dataset = project.version(13).download(\"coco\")"
      ],
      "metadata": {
        "id": "Gf7CGAH0ljJz"
      },
      "execution_count": null,
      "outputs": []
    },
    {
      "cell_type": "code",
      "source": [
        "!python3 /content/DINO/main.py --output_dir logs/DINO/R50-MS4 -c /content/DINO/config/DINO/DINO_4scale.py --coco_path /content/Aerial-Solar-Panels-13 --options dn_scalar=100 embed_init_tgt=TRUE dn_label_coef=1.0 dn_bbox_coef=1.0 use_ema=False dn_box_noise_scale=1.0"
      ],
      "metadata": {
        "id": "ENNnwmJBmNkh"
      },
      "execution_count": null,
      "outputs": []
    }
  ]
}